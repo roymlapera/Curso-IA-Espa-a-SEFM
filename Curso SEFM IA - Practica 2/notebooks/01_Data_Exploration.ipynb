{
 "cells": [
  {
   "cell_type": "markdown",
   "id": "a2721e3a",
   "metadata": {},
   "source": [
    "# Análisis Exploratorio de Datos (EDA)\n",
    "\n",
    "## Dataset: Análisis de Características Geométricas\n",
    "\n",
    "Este dataset fue obtenido de \n",
    "[Kaggle](https://www.kaggle.com/datasets/pranavraikokte/braintumorfeaturesextracted) y contiene características numéricas derivadas del análisis de imágenes de resonancia magnética cerebral. \n",
    "\n",
    "El archivo incluye **10 columnas** en total. Las primeras 9 son variables explicativas que describen propiedades geométricas y morfológicas extraídas del procesamiento de las imágenes. \n",
    "La columna final indica si la imagen corresponde a un caso con tumor (`1`) o sin tumor (`0`).\n",
    "<!--  -->\n",
    "### Variables del dataset:\n",
    "\n",
    "- **Area**: área de la región de interés en la imagen\n",
    "- **Perimeter**: perímetro de la región analizada\n",
    "- **Convex Area**: área de la envolvente convexa de la región\n",
    "- **Solidity**: relación entre el área del objeto y el área de su envolvente convexa (medida de convexidad)\n",
    "- **Equivalent Diameter**: diámetro de un círculo con la misma área que la región\n",
    "- **Major Axis**: longitud del eje mayor de la elipse que mejor ajusta a la región\n",
    "- **Minor Axis**: longitud del eje menor de la elipse que mejor ajusta a la región\n",
    "- **Eccentricity**: excentricidad de la elipse equivalente (el nombre de esta columna aparece duplicada en el dataset)\n",
    "- **Clase objetivo**: variable binaria donde `1` indica presencia de tumor y `0` ausencia de tumor\n",
    "\n",
    "Este dataset es ideal para aplicar técnicas de clasificación supervisada y análisis de patrones en el contexto del diagnóstico por imágenes médicas.\n"
   ]
  },
  {
   "cell_type": "markdown",
   "id": "7247fa04",
   "metadata": {},
   "source": [
    "<h3 style=\"font-size: 20px;\">Importación del dataset y Exploración inicial</h3>"
   ]
  },
  {
   "cell_type": "code",
   "execution_count": 2,
   "id": "f4a27bde",
   "metadata": {},
   "outputs": [],
   "source": [
    "import pandas as pd\n",
    "import seaborn as sns\n",
    "import matplotlib.pyplot as plt\n",
    "import numpy as np\n",
    "from IPython.display import display\n",
    "\n",
    "\n",
    "def print_summary(df):\n",
    "    display(df.info())\n",
    "    display(df.head())"
   ]
  },
  {
   "cell_type": "code",
   "execution_count": 3,
   "id": "91faa648",
   "metadata": {},
   "outputs": [
    {
     "name": "stdout",
     "output_type": "stream",
     "text": [
      "<class 'pandas.core.frame.DataFrame'>\n",
      "RangeIndex: 241 entries, 0 to 240\n",
      "Data columns (total 10 columns):\n",
      " #   Column               Non-Null Count  Dtype  \n",
      "---  ------               --------------  -----  \n",
      " 0   Unnamed: 0           241 non-null    int64  \n",
      " 1   Area                 241 non-null    float64\n",
      " 2   Perimeter            241 non-null    float64\n",
      " 3   Convex Area          241 non-null    float64\n",
      " 4   Solidity             241 non-null    float64\n",
      " 5   Equivalent Diameter  241 non-null    float64\n",
      " 6   Major Axis           241 non-null    float64\n",
      " 7   Minor Axis           241 non-null    float64\n",
      " 8   Eccentricity         241 non-null    object \n",
      " 9   Eccentricity.1       241 non-null    int64  \n",
      "dtypes: float64(7), int64(2), object(1)\n",
      "memory usage: 19.0+ KB\n"
     ]
    },
    {
     "data": {
      "text/plain": [
       "None"
      ]
     },
     "metadata": {},
     "output_type": "display_data"
    },
    {
     "data": {
      "text/html": [
       "<div>\n",
       "<style scoped>\n",
       "    .dataframe tbody tr th:only-of-type {\n",
       "        vertical-align: middle;\n",
       "    }\n",
       "\n",
       "    .dataframe tbody tr th {\n",
       "        vertical-align: top;\n",
       "    }\n",
       "\n",
       "    .dataframe thead th {\n",
       "        text-align: right;\n",
       "    }\n",
       "</style>\n",
       "<table border=\"1\" class=\"dataframe\">\n",
       "  <thead>\n",
       "    <tr style=\"text-align: right;\">\n",
       "      <th></th>\n",
       "      <th>Unnamed: 0</th>\n",
       "      <th>Area</th>\n",
       "      <th>Perimeter</th>\n",
       "      <th>Convex Area</th>\n",
       "      <th>Solidity</th>\n",
       "      <th>Equivalent Diameter</th>\n",
       "      <th>Major Axis</th>\n",
       "      <th>Minor Axis</th>\n",
       "      <th>Eccentricity</th>\n",
       "      <th>Eccentricity.1</th>\n",
       "    </tr>\n",
       "  </thead>\n",
       "  <tbody>\n",
       "    <tr>\n",
       "      <th>0</th>\n",
       "      <td>0</td>\n",
       "      <td>6314.5</td>\n",
       "      <td>521.972649</td>\n",
       "      <td>9855.5</td>\n",
       "      <td>0.640708</td>\n",
       "      <td>89.665328</td>\n",
       "      <td>86.297539</td>\n",
       "      <td>146.952896</td>\n",
       "      <td>(8.439724311699382e-17+1.3783115780934465j)</td>\n",
       "      <td>1</td>\n",
       "    </tr>\n",
       "    <tr>\n",
       "      <th>1</th>\n",
       "      <td>1</td>\n",
       "      <td>52776.5</td>\n",
       "      <td>1189.820409</td>\n",
       "      <td>59947.0</td>\n",
       "      <td>0.880386</td>\n",
       "      <td>259.224086</td>\n",
       "      <td>209.590240</td>\n",
       "      <td>405.861420</td>\n",
       "      <td>(1.015395044877726e-16+1.6582659515946696j)</td>\n",
       "      <td>1</td>\n",
       "    </tr>\n",
       "    <tr>\n",
       "      <th>2</th>\n",
       "      <td>2</td>\n",
       "      <td>50232.5</td>\n",
       "      <td>1415.349410</td>\n",
       "      <td>69628.5</td>\n",
       "      <td>0.721436</td>\n",
       "      <td>252.899200</td>\n",
       "      <td>223.632736</td>\n",
       "      <td>373.077637</td>\n",
       "      <td>(8.176507178841775e-17+1.3353249581078526j)</td>\n",
       "      <td>1</td>\n",
       "    </tr>\n",
       "    <tr>\n",
       "      <th>3</th>\n",
       "      <td>3</td>\n",
       "      <td>4486.0</td>\n",
       "      <td>275.622365</td>\n",
       "      <td>4741.5</td>\n",
       "      <td>0.946114</td>\n",
       "      <td>75.576138</td>\n",
       "      <td>64.818382</td>\n",
       "      <td>93.083397</td>\n",
       "      <td>(6.311037889163952e-17+1.0306707033502136j)</td>\n",
       "      <td>1</td>\n",
       "    </tr>\n",
       "    <tr>\n",
       "      <th>4</th>\n",
       "      <td>4</td>\n",
       "      <td>145.0</td>\n",
       "      <td>92.083260</td>\n",
       "      <td>323.5</td>\n",
       "      <td>0.448223</td>\n",
       "      <td>13.587484</td>\n",
       "      <td>16.900970</td>\n",
       "      <td>28.915043</td>\n",
       "      <td>(8.50007943665633e-17+1.3881683180120858j)</td>\n",
       "      <td>1</td>\n",
       "    </tr>\n",
       "  </tbody>\n",
       "</table>\n",
       "</div>"
      ],
      "text/plain": [
       "   Unnamed: 0     Area    Perimeter  Convex Area  Solidity  \\\n",
       "0           0   6314.5   521.972649       9855.5  0.640708   \n",
       "1           1  52776.5  1189.820409      59947.0  0.880386   \n",
       "2           2  50232.5  1415.349410      69628.5  0.721436   \n",
       "3           3   4486.0   275.622365       4741.5  0.946114   \n",
       "4           4    145.0    92.083260        323.5  0.448223   \n",
       "\n",
       "   Equivalent Diameter  Major Axis  Minor Axis  \\\n",
       "0            89.665328   86.297539  146.952896   \n",
       "1           259.224086  209.590240  405.861420   \n",
       "2           252.899200  223.632736  373.077637   \n",
       "3            75.576138   64.818382   93.083397   \n",
       "4            13.587484   16.900970   28.915043   \n",
       "\n",
       "                                  Eccentricity  Eccentricity.1  \n",
       "0  (8.439724311699382e-17+1.3783115780934465j)               1  \n",
       "1  (1.015395044877726e-16+1.6582659515946696j)               1  \n",
       "2  (8.176507178841775e-17+1.3353249581078526j)               1  \n",
       "3  (6.311037889163952e-17+1.0306707033502136j)               1  \n",
       "4   (8.50007943665633e-17+1.3881683180120858j)               1  "
      ]
     },
     "metadata": {},
     "output_type": "display_data"
    }
   ],
   "source": [
    "df = pd.read_csv('../data/raw/dataset.csv')\n",
    "print_summary(df)"
   ]
  },
  {
   "cell_type": "markdown",
   "id": "a9b37298",
   "metadata": {},
   "source": [
    "Datos faltantes"
   ]
  },
  {
   "cell_type": "code",
   "execution_count": 4,
   "id": "7498a6af",
   "metadata": {},
   "outputs": [
    {
     "data": {
      "text/plain": [
       "Unnamed: 0             0\n",
       "Area                   0\n",
       "Perimeter              0\n",
       "Convex Area            0\n",
       "Solidity               0\n",
       "Equivalent Diameter    0\n",
       "Major Axis             0\n",
       "Minor Axis             0\n",
       "Eccentricity           0\n",
       "Eccentricity.1         0\n",
       "dtype: int64"
      ]
     },
     "execution_count": 4,
     "metadata": {},
     "output_type": "execute_result"
    }
   ],
   "source": [
    "df.isnull().sum()\n",
    "# sns.heatmap(df.isnull(), cbar=False)"
   ]
  }
 ],
 "metadata": {
  "kernelspec": {
   "display_name": "ml-env",
   "language": "python",
   "name": "python3"
  },
  "language_info": {
   "codemirror_mode": {
    "name": "ipython",
    "version": 3
   },
   "file_extension": ".py",
   "mimetype": "text/x-python",
   "name": "python",
   "nbconvert_exporter": "python",
   "pygments_lexer": "ipython3",
   "version": "3.12.3"
  }
 },
 "nbformat": 4,
 "nbformat_minor": 5
}
